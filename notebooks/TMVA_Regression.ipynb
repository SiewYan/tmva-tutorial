{
 "cells": [
  {
   "cell_type": "markdown",
   "metadata": {},
   "source": [
    "<img src=\"tmva_logo.gif\" height=\"20%\" width=\"20%\">\n",
    "\n",
    "\n",
    "# Regression Example\n",
    "\n",
    "Example of TMVA for Regression"
   ]
  },
  {
   "cell_type": "markdown",
   "metadata": {},
   "source": [
    "### Create Factory class\n",
    "\n",
    "Create a factory class for the regression. It is important to specify that the AnalysisType is in this case **Regression**"
   ]
  },
  {
   "cell_type": "code",
   "execution_count": 1,
   "metadata": {
    "collapsed": true
   },
   "outputs": [],
   "source": [
    "TMVA::Tools::Instance();\n",
    "\n",
    "auto inputFile = TFile::Open(\"inputdata_regression.root\");\n",
    "auto outputFile = TFile::Open(\"TMVA_RegressionOutput.root\", \"RECREATE\");\n",
    "\n",
    "TMVA::Factory factory(\"TMVARegression\", outputFile,\n",
    "                      \"!V:!Silent:Color:!DrawProgressBar:AnalysisType=Regression\" ); "
   ]
  },
  {
   "cell_type": "markdown",
   "metadata": {},
   "source": [
    "### Create DataLoader class\n",
    "\n",
    "Cretae the DataLoader class and define the input features and the target for the regression."
   ]
  },
  {
   "cell_type": "code",
   "execution_count": 2,
   "metadata": {
    "collapsed": true
   },
   "outputs": [],
   "source": [
    "TMVA::DataLoader loader(\"dataset\"); \n",
    "\n",
    "// Add the feature variables, names reference branches in inputFile ttree\n",
    "loader.AddVariable(\"var1\");\n",
    "loader.AddVariable(\"var2\");\n",
    "loader.AddVariable(\"var3\");\n",
    "loader.AddVariable(\"var4\");\n",
    "loader.AddVariable(\"var5 := var1-var3\"); // create new features\n",
    "loader.AddVariable(\"var6 := var1+var2\");\n",
    "\n",
    "loader.AddTarget( \"target := var2+var3\" ); // define the target for the regression\n"
   ]
  },
  {
   "cell_type": "markdown",
   "metadata": {},
   "source": [
    "### Setup Dataset\n",
    "Link dataloader to dataset and prepare the data"
   ]
  },
  {
   "cell_type": "code",
   "execution_count": 3,
   "metadata": {
    "collapsed": false
   },
   "outputs": [
    {
     "name": "stdout",
     "output_type": "stream",
     "text": [
      "DataSetInfo              : [dataset] : Added class \"Regression\"\n",
      "                         : Add Tree Sig of type Regression with 6000 events\n",
      "                         : Dataset[dataset] : Class index : 0  name : Regression\n"
     ]
    }
   ],
   "source": [
    "TTree *tree;\n",
    "inputFile->GetObject(\"Sig\", tree);\n",
    "\n",
    "TCut mycuts = \"\"; // e.g. TCut mycuts = \"abs(var1)<0.5\";\n",
    "\n",
    "loader.AddRegressionTree(tree, 1.0);   // link the TTree to the loader, weight for each event  = 1\n",
    "loader.PrepareTrainingAndTestTree(mycuts,\n",
    "                                   \"nTrain_Regression=1000:nTest_Regression=1000:SplitMode=Random:NormMode=NumEvents:!V\" );"
   ]
  },
  {
   "cell_type": "markdown",
   "metadata": {},
   "source": [
    "## Book the regression method"
   ]
  },
  {
   "cell_type": "markdown",
   "metadata": {},
   "source": [
    "Book the method for regression. Here we choose the Boosted Decision Tree model. You have to use gradient boosted trees for regression, hence the BDTG and BoostType=Grad. \n",
    "\n",
    "Define the hyperparameters: ntrees, boosttype, shrinkage, and the depth. Also define the loss function you want to use: 'AbsoluteDeviation', 'Huber', or 'LeastSquares'. nCuts determines how finely to look at each feature. Larger values take more time, but you may get more accurate results."
   ]
  },
  {
   "cell_type": "code",
   "execution_count": 4,
   "metadata": {
    "collapsed": false
   },
   "outputs": [
    {
     "name": "stdout",
     "output_type": "stream",
     "text": [
      "Factory                  : Booking method: \u001b[1mBDTG_HU\u001b[0m\n",
      "                         : \n",
      "                         : the option NegWeightTreatment=InverseBoostNegWeights does not exist for BoostType=Grad\n",
      "                         : --> change to new default NegWeightTreatment=Pray\n",
      "DataSetFactory           : [dataset] : Number of events in input trees\n",
      "                         : \n",
      "                         : Number of training and testing events\n",
      "                         : ---------------------------------------------------------------------------\n",
      "                         : Regression -- training events            : 1000\n",
      "                         : Regression -- testing events             : 1000\n",
      "                         : Regression -- training and testing events: 2000\n",
      "                         : \n",
      "DataSetInfo              : Correlation matrix (Regression):\n",
      "                         : --------------------------------------------------------------\n",
      "                         :               var1    var2    var3    var4 var1-var3 var1+var2\n",
      "                         :      var1:  +1.000  +0.402  +0.595  +0.816    +0.474    +0.838\n",
      "                         :      var2:  +0.402  +1.000  +0.676  +0.731    -0.288    +0.836\n",
      "                         :      var3:  +0.595  +0.676  +1.000  +0.850    -0.426    +0.759\n",
      "                         :      var4:  +0.816  +0.731  +0.850  +1.000    -0.013    +0.924\n",
      "                         : var1-var3:  +0.474  -0.288  -0.426  -0.013    +1.000    +0.112\n",
      "                         : var1+var2:  +0.838  +0.836  +0.759  +0.924    +0.112    +1.000\n",
      "                         : --------------------------------------------------------------\n",
      "DataSetFactory           : [dataset] :  \n",
      "                         : \n"
     ]
    }
   ],
   "source": [
    "// Boosted Decision Trees \n",
    "factory.BookMethod(&loader,TMVA::Types::kBDT, \"BDTG_HU\",\n",
    "                   TString(\"!H:!V:NTrees=64::BoostType=Grad:Shrinkage=0.3:nCuts=20:MaxDepth=4:\")+\n",
    "                   TString(\"RegressionLossFunctionBDTG=Huber\"));"
   ]
  },
  {
   "cell_type": "code",
   "execution_count": 5,
   "metadata": {
    "collapsed": false
   },
   "outputs": [
    {
     "name": "stdout",
     "output_type": "stream",
     "text": [
      "Factory                  : Booking method: \u001b[1mBDTG_LS\u001b[0m\n",
      "                         : \n",
      "                         : the option NegWeightTreatment=InverseBoostNegWeights does not exist for BoostType=Grad\n",
      "                         : --> change to new default NegWeightTreatment=Pray\n"
     ]
    }
   ],
   "source": [
    "// Boosted Decision Trees \n",
    "factory.BookMethod(&loader,TMVA::Types::kBDT, \"BDTG_LS\",\n",
    "                   TString(\"!H:!V:NTrees=64::BoostType=Grad:Shrinkage=0.3:nCuts=20:MaxDepth=4:\")+\n",
    "                   TString(\"RegressionLossFunctionBDTG=LeastSquares\"));"
   ]
  },
  {
   "cell_type": "markdown",
   "metadata": {},
   "source": [
    "# Train Method"
   ]
  },
  {
   "cell_type": "code",
   "execution_count": 6,
   "metadata": {
    "collapsed": false
   },
   "outputs": [
    {
     "name": "stdout",
     "output_type": "stream",
     "text": [
      "Factory                  : \u001b[1mTrain all methods\u001b[0m\n",
      "Factory                  : [dataset] : Create Transformation \"I\" with events from all classes.\n",
      "                         : \n",
      "                         : Transformation, Variable selection : \n",
      "                         : Input : variable 'var1' <---> Output : variable 'var1'\n",
      "                         : Input : variable 'var2' <---> Output : variable 'var2'\n",
      "                         : Input : variable 'var3' <---> Output : variable 'var3'\n",
      "                         : Input : variable 'var4' <---> Output : variable 'var4'\n",
      "                         : Input : variable 'var5' <---> Output : variable 'var5'\n",
      "                         : Input : variable 'var6' <---> Output : variable 'var6'\n",
      "TFHandler_Factory        : Variable        Mean        RMS   [        Min        Max ]\n",
      "                         : -----------------------------------------------------------\n",
      "                         :     var1:    0.19981    0.99823   [    -2.8842     3.3534 ]\n",
      "                         :     var2:    0.31602    0.99392   [    -2.5385     4.0451 ]\n",
      "                         :     var3:    0.42020    0.97118   [    -2.6928     3.6048 ]\n",
      "                         :     var4:    0.81850     1.0725   [    -2.6858     4.0307 ]\n",
      "                         :     var5:   -0.22039    0.88688   [    -2.7731     2.6151 ]\n",
      "                         :     var6:    0.51583     1.6679   [    -4.8552     5.7821 ]\n",
      "                         :   target:    0.73622     1.7989   [    -5.0511     6.4000 ]\n",
      "                         : -----------------------------------------------------------\n",
      "                         : Ranking input variables (method unspecific)...\n",
      "IdTransformation         : Ranking result (top variable is best ranked)\n",
      "                         : --------------------------------------------\n",
      "                         : Rank : Variable  : |Correlation with target|\n",
      "                         : --------------------------------------------\n",
      "                         :    1 : var2      : 9.175e-01\n",
      "                         :    2 : var3      : 9.134e-01\n",
      "                         :    3 : var6      : 8.718e-01\n",
      "                         :    4 : var4      : 8.629e-01\n",
      "                         :    5 : var1      : 5.431e-01\n",
      "                         :    6 : var5      : 3.889e-01\n",
      "                         : --------------------------------------------\n",
      "IdTransformation         : Ranking result (top variable is best ranked)\n",
      "                         : -------------------------------------\n",
      "                         : Rank : Variable  : Mutual information\n",
      "                         : -------------------------------------\n",
      "                         :    1 : var5      : 2.614e+00\n",
      "                         :    2 : var1      : 2.570e+00\n",
      "                         :    3 : var4      : 2.544e+00\n",
      "                         :    4 : var6      : 2.502e+00\n",
      "                         :    5 : var3      : 2.490e+00\n",
      "                         :    6 : var2      : 2.454e+00\n",
      "                         : -------------------------------------\n",
      "IdTransformation         : Ranking result (top variable is best ranked)\n",
      "                         : ------------------------------------\n",
      "                         : Rank : Variable  : Correlation Ratio\n",
      "                         : ------------------------------------\n",
      "                         :    1 : var3      : 5.990e-01\n",
      "                         :    2 : var2      : 5.763e-01\n",
      "                         :    3 : var4      : 5.409e-01\n",
      "                         :    4 : var6      : 5.394e-01\n",
      "                         :    5 : var1      : 3.215e-01\n",
      "                         :    6 : var5      : 2.364e-01\n",
      "                         : ------------------------------------\n",
      "IdTransformation         : Ranking result (top variable is best ranked)\n",
      "                         : ----------------------------------------\n",
      "                         : Rank : Variable  : Correlation Ratio (T)\n",
      "                         : ----------------------------------------\n",
      "                         :    1 : var2      : 7.771e-01\n",
      "                         :    2 : var3      : 7.712e-01\n",
      "                         :    3 : var6      : 6.829e-01\n",
      "                         :    4 : var4      : 6.666e-01\n",
      "                         :    5 : var1      : 3.097e-01\n",
      "                         :    6 : var5      : 2.189e-01\n",
      "                         : ----------------------------------------\n",
      "Factory                  : Train method: BDTG_HU for Regression\n",
      "                         : \n",
      "                         : Regression Loss Function: Huber\n",
      "                         : Training 64 Decision Trees ... patience please\n",
      "                         : Elapsed time for training with 1000 events: 0.0957 sec         \n",
      "                         : Dataset[dataset] : Create results for training\n",
      "                         : Dataset[dataset] : Evaluation of BDTG_HU on training sample\n",
      "                         : Dataset[dataset] : Elapsed time for evaluation of 1000 events: 0.0048 sec       \n",
      "                         : Create variable histograms\n",
      "                         : Create regression target histograms\n",
      "                         : Create regression average deviation\n",
      "                         : Results created\n",
      "                         : Creating xml weight file: \u001b[0;36mdataset/weights/TMVARegression_BDTG_HU.weights.xml\u001b[0m\n",
      "                         : TMVA_RegressionOutput.root:/dataset/Method_BDTG_HU/BDTG_HU\n",
      "Factory                  : Training finished\n",
      "                         : \n",
      "Factory                  : Train method: BDTG_LS for Regression\n",
      "                         : \n",
      "                         : Regression Loss Function: LeastSquares\n",
      "                         : Training 64 Decision Trees ... patience please\n",
      "                         : Elapsed time for training with 1000 events: 0.103 sec         \n",
      "                         : Dataset[dataset] : Create results for training\n",
      "                         : Dataset[dataset] : Evaluation of BDTG_LS on training sample\n",
      "                         : Dataset[dataset] : Elapsed time for evaluation of 1000 events: 0.00524 sec       \n",
      "                         : Create variable histograms\n",
      "                         : Create regression target histograms\n",
      "                         : Create regression average deviation\n",
      "                         : Results created\n",
      "                         : Creating xml weight file: \u001b[0;36mdataset/weights/TMVARegression_BDTG_LS.weights.xml\u001b[0m\n",
      "                         : TMVA_RegressionOutput.root:/dataset/Method_BDTG_LS/BDTG_LS\n",
      "Factory                  : Training finished\n",
      "                         : \n",
      "Factory                  : === Destroy and recreate all methods via weight files for testing ===\n",
      "                         : \n",
      "                         : Reading weight file: \u001b[0;36mdataset/weights/TMVARegression_BDTG_HU.weights.xml\u001b[0m\n",
      "                         : Reading weight file: \u001b[0;36mdataset/weights/TMVARegression_BDTG_LS.weights.xml\u001b[0m\n"
     ]
    }
   ],
   "source": [
    "factory.TrainAllMethods();"
   ]
  },
  {
   "cell_type": "markdown",
   "metadata": {},
   "source": [
    "# Test and Evaluate the Model"
   ]
  },
  {
   "cell_type": "code",
   "execution_count": 7,
   "metadata": {
    "collapsed": false
   },
   "outputs": [
    {
     "name": "stdout",
     "output_type": "stream",
     "text": [
      "Factory                  : \u001b[1mTest all methods\u001b[0m\n",
      "Factory                  : Test method: BDTG_HU for Regression performance\n",
      "                         : \n",
      "                         : Dataset[dataset] : Create results for testing\n",
      "                         : Dataset[dataset] : Evaluation of BDTG_HU on testing sample\n",
      "                         : Dataset[dataset] : Elapsed time for evaluation of 1000 events: 0.0056 sec       \n",
      "                         : Create variable histograms\n",
      "                         : Create regression target histograms\n",
      "                         : Create regression average deviation\n",
      "                         : Results created\n",
      "Factory                  : Test method: BDTG_LS for Regression performance\n",
      "                         : \n",
      "                         : Dataset[dataset] : Create results for testing\n",
      "                         : Dataset[dataset] : Evaluation of BDTG_LS on testing sample\n",
      "                         : Dataset[dataset] : Elapsed time for evaluation of 1000 events: 0.00464 sec       \n",
      "                         : Create variable histograms\n",
      "                         : Create regression target histograms\n",
      "                         : Create regression average deviation\n",
      "                         : Results created\n"
     ]
    }
   ],
   "source": [
    "factory.TestAllMethods();    "
   ]
  },
  {
   "cell_type": "code",
   "execution_count": 8,
   "metadata": {
    "collapsed": false
   },
   "outputs": [
    {
     "name": "stdout",
     "output_type": "stream",
     "text": [
      "Factory                  : \u001b[1mEvaluate all methods\u001b[0m\n",
      "                         : Evaluate regression method: BDTG_HU\n",
      "                         : TestRegression (testing)\n",
      "                         : Calculate regression for all events\n",
      "                         : Elapsed time for evaluation of 1000 events: 0.00464 sec       \n",
      "                         : TestRegression (training)\n",
      "                         : Calculate regression for all events\n",
      "                         : Elapsed time for evaluation of 1000 events: 0.00449 sec       \n",
      "TFHandler_BDTG_HU        : Variable        Mean        RMS   [        Min        Max ]\n",
      "                         : -----------------------------------------------------------\n",
      "                         :     var1:    0.23094    0.99817   [    -2.8856     3.0447 ]\n",
      "                         :     var2:    0.31764     1.0242   [    -3.1385     3.9137 ]\n",
      "                         :     var3:    0.37240     1.0031   [    -3.1826     3.4690 ]\n",
      "                         :     var4:    0.80957     1.0860   [    -2.6941     4.3780 ]\n",
      "                         :     var5:   -0.14147    0.91472   [    -3.1013     3.0280 ]\n",
      "                         :     var6:    0.54858     1.6800   [    -5.0563     6.4362 ]\n",
      "                         :   target:    0.69004     1.8589   [    -4.8474     6.5958 ]\n",
      "                         : -----------------------------------------------------------\n",
      "                         : Evaluate regression method: BDTG_LS\n",
      "                         : TestRegression (testing)\n",
      "                         : Calculate regression for all events\n",
      "                         : Elapsed time for evaluation of 1000 events: 0.0059 sec       \n",
      "                         : TestRegression (training)\n",
      "                         : Calculate regression for all events\n",
      "                         : Elapsed time for evaluation of 1000 events: 0.00408 sec       \n",
      "TFHandler_BDTG_LS        : Variable        Mean        RMS   [        Min        Max ]\n",
      "                         : -----------------------------------------------------------\n",
      "                         :     var1:    0.23094    0.99817   [    -2.8856     3.0447 ]\n",
      "                         :     var2:    0.31764     1.0242   [    -3.1385     3.9137 ]\n",
      "                         :     var3:    0.37240     1.0031   [    -3.1826     3.4690 ]\n",
      "                         :     var4:    0.80957     1.0860   [    -2.6941     4.3780 ]\n",
      "                         :     var5:   -0.14147    0.91472   [    -3.1013     3.0280 ]\n",
      "                         :     var6:    0.54858     1.6800   [    -5.0563     6.4362 ]\n",
      "                         :   target:    0.69004     1.8589   [    -4.8474     6.5958 ]\n",
      "                         : -----------------------------------------------------------\n",
      "                         : \n",
      "                         : Evaluation results ranked by smallest RMS on test sample:\n",
      "                         : (\"Bias\" quotes the mean deviation of the regression from true target.\n",
      "                         :  \"MutInf\" is the \"Mutual Information\" between regression and target.\n",
      "                         :  Indicated by \"_T\" are the corresponding \"truncated\" quantities ob-\n",
      "                         :  tained when removing events deviating more than 2sigma from average.)\n",
      "                         : --------------------------------------------------------------------------------------------------\n",
      "                         : --------------------------------------------------------------------------------------------------\n",
      "                         : dataset              BDTG_LS        :   0.0123  0.00357    0.127   0.0958  |  2.700  2.708\n",
      "                         : dataset              BDTG_HU        :  0.00668 0.000279    0.126   0.0949  |  2.673  2.695\n",
      "                         : --------------------------------------------------------------------------------------------------\n",
      "                         : \n",
      "                         : Evaluation results ranked by smallest RMS on training sample:\n",
      "                         : (overtraining check)\n",
      "                         : --------------------------------------------------------------------------------------------------\n",
      "                         : DataSet Name:         MVA Method:        <Bias>   <Bias_T>    RMS    RMS_T  |  MutInf MutInf_T\n",
      "                         : --------------------------------------------------------------------------------------------------\n",
      "                         : dataset              BDTG_LS        : 2.85e-08 -0.00108   0.0543   0.0441  |  2.953  2.999\n",
      "                         : dataset              BDTG_HU        :  0.00379  0.00145   0.0765   0.0601  |  2.896  2.958\n",
      "                         : --------------------------------------------------------------------------------------------------\n",
      "                         : \n",
      "Dataset:dataset          : Created tree 'TestTree' with 1000 events\n",
      "                         : \n",
      "Dataset:dataset          : Created tree 'TrainTree' with 1000 events\n",
      "                         : \n",
      "Factory                  : \u001b[1mThank you for using TMVA!\u001b[0m\n",
      "                         : \u001b[1mFor citation information, please visit: http://tmva.sf.net/citeTMVA.html\u001b[0m\n"
     ]
    }
   ],
   "source": [
    "factory.EvaluateAllMethods();"
   ]
  },
  {
   "cell_type": "markdown",
   "metadata": {},
   "source": [
    "## Gather and Plot the Results\n",
    "Let's plot the residuals for the BDTG predictions. First, close the output file so that it saves to disk and we can open it without issue. Then get the results on the test set. Finally, plot the residuals."
   ]
  },
  {
   "cell_type": "code",
   "execution_count": 9,
   "metadata": {
    "collapsed": false
   },
   "outputs": [
    {
     "data": {
      "image/png": "[encoded data removed]",
      "text/plain": [
       "<IPython.core.display.Image object>"
      ]
     },
     "metadata": {},
     "output_type": "display_data"
    },
    {
     "name": "stderr",
     "output_type": "stream",
     "text": [
      "Info in <TCanvas::MakeDefCanvas>:  created default TCanvas with name c1\n"
     ]
    }
   ],
   "source": [
    "//%jsroot on\n",
    "outputFile->Close();\n",
    "auto resultsFile = TFile::Open(\"TMVA_RegressionOutput.root\");\n",
    "auto resultsTree = (TTree*) resultsFile->Get(\"dataset/TestTree\"); \n",
    "// BDTG-AD is the predicted value, target is the true value\n",
    "auto h1 = new TH1D(\"h1\",\"BDTG-target\",100,1,0);\n",
    "resultsTree->Draw(\"BDTG_HU-target >> h1\"); \n",
    "auto h2 = (TH1*) h1->Clone(\"h2\");\n",
    "resultsTree->Draw(\"BDTG_LS-target >> h2\"); \n",
    "h1->SetLineColor(kBlue); h1->Draw();\n",
    "h2->SetLineColor(kRed); h2->Draw(\"SAME\");\n",
    "gPad->Draw();"
   ]
  },
  {
   "cell_type": "code",
   "execution_count": null,
   "metadata": {
    "collapsed": true
   },
   "outputs": [],
   "source": []
  }
 ],
 "metadata": {
  "kernelspec": {
   "display_name": "ROOT C++",
   "language": "c++",
   "name": "root"
  },
  "language_info": {
   "codemirror_mode": "text/x-c++src",
   "file_extension": ".C",
   "mimetype": " text/x-c++src",
   "name": "c++"
  }
 },
 "nbformat": 4,
 "nbformat_minor": 1
}
