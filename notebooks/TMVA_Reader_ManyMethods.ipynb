{
 "cells": [
  {
   "cell_type": "markdown",
   "metadata": {},
   "source": [
    "<img src=\"tmva_logo.gif\" height=\"20%\" width=\"20%\">\n",
    "\n",
    "\n",
    "# TMVA  Reader Example \n",
    "\n",
    "#### Example of applying the trained classified of TMVA on a data set and evaluate the classifier"
   ]
  },
  {
   "cell_type": "code",
   "execution_count": null,
   "metadata": {},
   "outputs": [],
   "source": [
    "TMVA::Tools::Instance();"
   ]
  },
  {
   "cell_type": "markdown",
   "metadata": {},
   "source": [
    "### Choose TMVA method to evaluate"
   ]
  },
  {
   "cell_type": "code",
   "execution_count": null,
   "metadata": {},
   "outputs": [],
   "source": [
    "std::vector<std::string> methodNames = {\"BDT\",\"DL_CPU\"};"
   ]
  },
  {
   "cell_type": "markdown",
   "metadata": {},
   "source": [
    "###  Give input file \n"
   ]
  },
  {
   "cell_type": "code",
   "execution_count": null,
   "metadata": {},
   "outputs": [],
   "source": [
    "TFile * inputFile = TFile::Open(\"Higgs_data.root\");"
   ]
  },
  {
   "cell_type": "code",
   "execution_count": null,
   "metadata": {},
   "outputs": [],
   "source": [
    "inputFile->ls();\n"
   ]
  },
  {
   "cell_type": "code",
   "execution_count": null,
   "metadata": {},
   "outputs": [],
   "source": [
    "TTree* sig_tree = (TTree*) inputFile->Get(\"sig_tree\");\n",
    "TTree* bkg_tree = (TTree*) inputFile->Get(\"bkg_tree\");"
   ]
  },
  {
   "cell_type": "code",
   "execution_count": null,
   "metadata": {},
   "outputs": [],
   "source": [
    "//sig_tree->Print(); "
   ]
  },
  {
   "cell_type": "markdown",
   "metadata": {},
   "source": [
    "### Declare Reader\n"
   ]
  },
  {
   "cell_type": "code",
   "execution_count": null,
   "metadata": {},
   "outputs": [],
   "source": [
    "TMVA::Reader reader( \"!Color:!Silent\" );"
   ]
  },
  {
   "cell_type": "markdown",
   "metadata": {},
   "source": [
    "### Add Variable\n",
    "\n",
    "We add variables to the reader exactly in the same way we did for the **DataLoader** during the training\n",
    "\n",
    "We need to specify the address of the variable in order to pass it to TMVA when we iterate on the TTree\n"
   ]
  },
  {
   "cell_type": "code",
   "execution_count": null,
   "metadata": {},
   "outputs": [],
   "source": [
    "float m_jj, m_jjj, m_lv, m_jlv, m_bb, m_wbb, m_wwbb; "
   ]
  },
  {
   "cell_type": "code",
   "execution_count": null,
   "metadata": {},
   "outputs": [],
   "source": [
    "// add variables \n",
    "reader.AddVariable(\"m_jj\",&m_jj);\n",
    "reader.AddVariable(\"m_jjj\",&m_jjj);\n",
    "reader.AddVariable(\"m_lv\",&m_lv);\n",
    "reader.AddVariable(\"m_jlv\",&m_jlv);\n",
    "reader.AddVariable(\"m_bb\",&m_bb);\n",
    "reader.AddVariable(\"m_wbb\",&m_wbb);\n",
    "reader.AddVariable(\"m_wwbb\",&m_wwbb);"
   ]
  },
  {
   "cell_type": "markdown",
   "metadata": {},
   "source": [
    "## Setup Classifiers\n",
    "\n",
    "We set up the classifiers by reading the input weights from the appropriate files\n",
    "\n",
    "The file is stored for example as \n",
    "\n",
    "####  *dataset/weights/TMVAClassification_BDT.weights.xml"
   ]
  },
  {
   "cell_type": "code",
   "execution_count": null,
   "metadata": {},
   "outputs": [],
   "source": [
    "for (size_t i = 0; i < methodNames.size(); ++i) { \n",
    "   TString weightfile = \"dataset/weights/TMVA_Higgs_Classification_\" + methodNames[i] + \".weights.xml\";\n",
    "   reader.BookMVA( methodNames[i], weightfile );\n",
    "}"
   ]
  },
  {
   "cell_type": "code",
   "execution_count": null,
   "metadata": {},
   "outputs": [],
   "source": []
  },
  {
   "cell_type": "markdown",
   "metadata": {},
   "source": [
    "### Book histogram to visualize the response"
   ]
  },
  {
   "cell_type": "code",
   "execution_count": null,
   "metadata": {},
   "outputs": [],
   "source": [
    "auto h1 = new TH1D(\"h1\",\"Classifier Output on Background Events\",100,-1,1);\n",
    "auto h2 = new TH1D(\"h2\",\"Classifier Output on Signal Events\",100,-1,1);\n",
    "std::vector<std::vector<float>> vout(methodNames.size());"
   ]
  },
  {
   "cell_type": "markdown",
   "metadata": {},
   "source": [
    "## Iterate on the events from the input TTree "
   ]
  },
  {
   "cell_type": "code",
   "execution_count": null,
   "metadata": {},
   "outputs": [],
   "source": [
    "auto readEvents = [&](TTree & tree, TH1 & histo) {\n",
    "  tree.SetBranchAddress(\"m_jj\",&m_jj);\n",
    "  tree.SetBranchAddress(\"m_jjj\",&m_jjj);\n",
    "  tree.SetBranchAddress(\"m_lv\",&m_lv) ;\n",
    "  tree.SetBranchAddress(\"m_jlv\",&m_jlv);\n",
    "  tree.SetBranchAddress(\"m_bb\",&m_bb);\n",
    "  tree.SetBranchAddress(\"m_wbb\",&m_wbb);\n",
    "  tree.SetBranchAddress(\"m_wwbb\",&m_wwbb);\n",
    "  for (size_t i = 0; i < methodNames.size(); ++i ) {\n",
    "    vout[i].clear(); \n",
    "    vout[i].resize(tree.GetEntries());\n",
    "  }\n",
    "  for (Long64_t ievt=0; ievt < tree.GetEntries();ievt++) {\n",
    "\n",
    "      if (ievt%500 == 0) std::cout << \"--- ... Processing event: \" << ievt << std::endl;\n",
    "\n",
    "      tree.GetEntry(ievt);\n",
    "      \n",
    "      for (size_t i = 0; i < methodNames.size(); ++i ) {\n",
    "    \n",
    "         auto output = reader.EvaluateMVA(methodNames[i]);\n",
    "  \n",
    "         vout[i][ievt] = output;  \n",
    "      }\n",
    "  }\n",
    "};\n",
    "    "
   ]
  },
  {
   "cell_type": "markdown",
   "metadata": {},
   "source": [
    "### Evaluation of the classifier on the given input events\n",
    "\n",
    "We iterate on the input event in the given TTree. We provide as input first the background tree \n",
    "We need first to define the branches we are reading from the trees and then we can read the events calling \n",
    "the readEvents function we have defined before"
   ]
  },
  {
   "cell_type": "code",
   "execution_count": null,
   "metadata": {},
   "outputs": [],
   "source": [
    "// read events and fill histogram\n",
    "readEvents(*bkg_tree,*h1); "
   ]
  },
  {
   "cell_type": "code",
   "execution_count": null,
   "metadata": {},
   "outputs": [],
   "source": [
    "std::vector<std::vector<float>> bkg_results = vout; "
   ]
  },
  {
   "cell_type": "markdown",
   "metadata": {},
   "source": [
    "### Evaluation on the signal  events\n",
    "\n",
    "We evaluate now the classifier on the another tree (e.g. the signal events)\n",
    "\n"
   ]
  },
  {
   "cell_type": "code",
   "execution_count": null,
   "metadata": {},
   "outputs": [],
   "source": [
    "readEvents(*sig_tree,*h2); "
   ]
  },
  {
   "cell_type": "code",
   "execution_count": null,
   "metadata": {},
   "outputs": [],
   "source": [
    "std::vector<std::vector<float>> sig_results = vout; "
   ]
  },
  {
   "cell_type": "markdown",
   "metadata": {},
   "source": [
    "## Make ROC plot"
   ]
  },
  {
   "cell_type": "code",
   "execution_count": null,
   "metadata": {},
   "outputs": [],
   "source": [
    "for (size_t i = 0; i < methodNames.size(); ++i) {\n",
    "    TMVA::ROCCurve * roc = new TMVA::ROCCurve(sig_results[i], bkg_results[i] );\n",
    "    TGraph *  roc_graph  = roc->GetROCCurve(); \n",
    "    roc_graph->SetTitle(methodNames[i].c_str());\n",
    "    std::cout << \"method \" << methodNames[i] << \" ROC integral = \" << roc->GetROCIntegral() << std::endl;\n",
    "    roc_graph->SetLineColor(i+1);\n",
    "    if (i == 0) roc_graph->Draw(\"AL\");\n",
    "    else roc_graph->Draw(\"L\");\n",
    "}"
   ]
  },
  {
   "cell_type": "code",
   "execution_count": null,
   "metadata": {},
   "outputs": [],
   "source": [
    "if (gPad) gPad->Draw();"
   ]
  },
  {
   "cell_type": "code",
   "execution_count": null,
   "metadata": {},
   "outputs": [],
   "source": []
  }
 ],
 "metadata": {
  "kernelspec": {
   "display_name": "ROOT C++",
   "language": "c++",
   "name": "root"
  },
  "language_info": {
   "codemirror_mode": "text/x-c++src",
   "file_extension": ".C",
   "mimetype": " text/x-c++src",
   "name": "c++"
  }
 },
 "nbformat": 4,
 "nbformat_minor": 1
}
