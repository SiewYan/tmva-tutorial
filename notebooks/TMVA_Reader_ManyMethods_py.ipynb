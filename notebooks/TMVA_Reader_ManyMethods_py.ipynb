{
 "cells": [
  {
   "cell_type": "markdown",
   "metadata": {},
   "source": [
    "<img src=\"http://oproject.org/tiki-download_file.php?fileId=8&display&x=450&y=128\">\n",
    "<img src=\"http://files.oproject.org/tmvalogo.png\" height=\"50%\" width=\"50%\">\n",
    "\n",
    "# TMVA  Reader Example \n",
    "\n",
    "#### Example of applying the trained classified of TMVA on a data set and evaluate the classifier"
   ]
  },
  {
   "cell_type": "code",
   "execution_count": null,
   "metadata": {},
   "outputs": [],
   "source": [
    "import ROOT\n",
    "from ROOT import TMVA"
   ]
  },
  {
   "cell_type": "code",
   "execution_count": null,
   "metadata": {},
   "outputs": [],
   "source": [
    "##%jsroot on"
   ]
  },
  {
   "cell_type": "code",
   "execution_count": null,
   "metadata": {},
   "outputs": [],
   "source": [
    "import os\n",
    "os.environ[\"KERAS_BACKEND\"] = \"tensorflow\""
   ]
  },
  {
   "cell_type": "markdown",
   "metadata": {},
   "source": [
    "### Choose TMVA method to evaluate"
   ]
  },
  {
   "cell_type": "code",
   "execution_count": null,
   "metadata": {},
   "outputs": [],
   "source": [
    "methodNames = [\"BDT\",\"DL_CPU\",\"Keras_Dense\",\"PyGTB\"]"
   ]
  },
  {
   "cell_type": "markdown",
   "metadata": {},
   "source": [
    "###  Give input file \n"
   ]
  },
  {
   "cell_type": "code",
   "execution_count": null,
   "metadata": {},
   "outputs": [],
   "source": [
    "inputFile = ROOT.TFile(\"Higgs_data.root\")"
   ]
  },
  {
   "cell_type": "code",
   "execution_count": null,
   "metadata": {},
   "outputs": [],
   "source": [
    "inputFile.ls()\n",
    "#inputFile.sig_tree.Print()"
   ]
  },
  {
   "cell_type": "markdown",
   "metadata": {},
   "source": [
    "### Declare Reader\n"
   ]
  },
  {
   "cell_type": "code",
   "execution_count": null,
   "metadata": {},
   "outputs": [],
   "source": [
    "TMVA.Tools.Instance()\n",
    "TMVA.PyMethodBase.PyInitialize();\n",
    "\n",
    "reader = TMVA.Reader( \"!Color:!Silent\" )\n"
   ]
  },
  {
   "cell_type": "markdown",
   "metadata": {},
   "source": [
    "### Add Variable\n",
    "\n",
    "We add variables to the reader exactly in the same way we did for the **DataLoader** during the training\n",
    "\n",
    "We need to specify the address of the variable in order to pass it to TMVA when we iterate on the TTree\n"
   ]
  },
  {
   "cell_type": "code",
   "execution_count": null,
   "metadata": {},
   "outputs": [],
   "source": [
    "from array import array\n",
    "m_jj = array('f',[0])\n",
    "m_jjj = array('f',[0])\n",
    "m_lv = array('f',[0])\n",
    "m_jlv = array('f',[0])\n",
    "m_bb = array('f',[0])\n",
    "m_wbb = array('f',[0])\n",
    "m_wwbb = array('f',[0])"
   ]
  },
  {
   "cell_type": "code",
   "execution_count": null,
   "metadata": {},
   "outputs": [],
   "source": [
    "#add variables \n",
    "reader.AddVariable(\"m_jj\",m_jj)\n",
    "reader.AddVariable(\"m_jjj\",m_jjj)\n",
    "reader.AddVariable(\"m_lv\",m_lv)\n",
    "reader.AddVariable(\"m_jlv\",m_jlv)\n",
    "reader.AddVariable(\"m_bb\",m_bb)\n",
    "reader.AddVariable(\"m_wbb\",m_wbb)\n",
    "reader.AddVariable(\"m_wwbb\",m_wwbb)\n"
   ]
  },
  {
   "cell_type": "markdown",
   "metadata": {},
   "source": [
    "## Setup Classifiers\n",
    "\n",
    "We set up the classifiers by reading the input weights from the appropriate files\n",
    "\n",
    "The file is stored for example as \n",
    "\n",
    "####  *dataset/weights/TMVAClassification_BDT.weights.xml"
   ]
  },
  {
   "cell_type": "code",
   "execution_count": null,
   "metadata": {},
   "outputs": [],
   "source": [
    "for methodName in methodNames: \n",
    "    weightfile = \"dataset/weights/TMVA_Higgs_Classification_\" + methodName + \".weights.xml\"\n",
    "    name = ROOT.TString(methodName)\n",
    "    reader.BookMVA( name, weightfile );"
   ]
  },
  {
   "cell_type": "markdown",
   "metadata": {},
   "source": [
    "### Book histogram to visualize the response"
   ]
  },
  {
   "cell_type": "code",
   "execution_count": null,
   "metadata": {},
   "outputs": [],
   "source": [
    "hs = {}\n",
    "hb = {}\n",
    "for name in methodNames:\n",
    "    hname = \"hsig_\" + name\n",
    "    htitle = \"Classifier Output for \" + name \n",
    "    hs[name] = ( ROOT.TH1D(hname,htitle,100,-1,1) )\n",
    "    hname = \"hbkg_\" + name\n",
    "    hb[name] = (ROOT.TH1D(hname,htitle,100,-1,1) )"
   ]
  },
  {
   "cell_type": "markdown",
   "metadata": {},
   "source": [
    "## Iterate on the events from the input TTree "
   ]
  },
  {
   "cell_type": "markdown",
   "metadata": {},
   "source": [
    "### Evaluation of the classifier on the given input events\n",
    "\n",
    "We iterate on the input event in the given TTree. We provide as input first the background tree \n",
    "We return the output results for the various methods in big numpy array [ number of methods x number of events]\n",
    "We also fill an histogram for each method.\n",
    "Note that is important to fill the arrays with the tree entries in order to pass the values to the TMVA::Reader"
   ]
  },
  {
   "cell_type": "code",
   "execution_count": null,
   "metadata": {},
   "outputs": [],
   "source": [
    "import numpy as np"
   ]
  },
  {
   "cell_type": "code",
   "execution_count": null,
   "metadata": {},
   "outputs": [],
   "source": [
    "\n",
    "nevt = inputFile.bkg_tree.GetEntries()\n",
    "\n",
    "vout = np.arange( nevt * len(methodNames), dtype='float').reshape( len(methodNames), nevt)\n",
    "ievt = 0\n",
    "for entry in inputFile.bkg_tree:\n",
    "    m_jj[0] = entry.m_jj\n",
    "    m_jjj[0] = entry.m_jjj\n",
    "    m_lv[0] = entry.m_lv\n",
    "    m_jlv[0] = entry.m_jlv\n",
    "    m_bb[0] = entry.m_bb\n",
    "    m_wbb[0] = entry.m_wbb\n",
    "    m_wwbb[0] = entry.m_wwbb\n",
    "    \n",
    "    i = 0\n",
    "    for methodName in methodNames : \n",
    "        vout[i,ievt] = reader.EvaluateMVA(methodName)\n",
    "        hb[methodName].Fill(vout[i,ievt])        \n",
    "        #if (ievt%1000)==0 : print 'Event ',ievt,' MVA output for ',methodName,' =',vout[i,ievt]\n",
    "        i += 1\n",
    "        \n",
    "    ievt += 1\n",
    "#    if (ievt > 20000) : break\n",
    "    "
   ]
  },
  {
   "cell_type": "code",
   "execution_count": null,
   "metadata": {},
   "outputs": [],
   "source": [
    "print(vout)\n",
    "bkg_result = vout"
   ]
  },
  {
   "cell_type": "markdown",
   "metadata": {},
   "source": [
    "### Evaluation on the signal  events\n",
    "\n",
    "We evaluate now the classifier on the another tree (e.g. the signal events)\n",
    "\n"
   ]
  },
  {
   "cell_type": "code",
   "execution_count": null,
   "metadata": {},
   "outputs": [],
   "source": [
    "nevt = inputFile.sig_tree.GetEntries()\n",
    "\n",
    "vout = np.arange( nevt * len(methodNames), dtype='float').reshape( len(methodNames), nevt)\n",
    "ievt = 0\n",
    "for entry in inputFile.sig_tree:\n",
    "    m_jj[0] = entry.m_jj\n",
    "    m_jjj[0] = entry.m_jjj\n",
    "    m_lv[0] = entry.m_lv\n",
    "    m_jlv[0] = entry.m_jlv\n",
    "    m_bb[0] = entry.m_bb\n",
    "    m_wbb[0] = entry.m_wbb\n",
    "    m_wwbb[0] = entry.m_wwbb\n",
    "    \n",
    "    i = 0\n",
    "    for methodName in methodNames : \n",
    "        vout[i,ievt] = reader.EvaluateMVA(methodName)\n",
    "        hs[methodName].Fill(vout[i,ievt])\n",
    "        #if (ievt%1000)==0 : print 'Event ',ievt,' MVA output for ',methodName,' =',vout[i,ievt]\n",
    "        i += 1\n",
    "        \n",
    "    ievt += 1\n",
    "#    if (ievt > 20000) : break\n",
    "    \n",
    "    \n",
    "sig_result = vout\n",
    "print(sig_result)"
   ]
  },
  {
   "cell_type": "markdown",
   "metadata": {},
   "source": [
    "### Plot Histogram of output variables"
   ]
  },
  {
   "cell_type": "code",
   "execution_count": null,
   "metadata": {},
   "outputs": [],
   "source": [
    "c1 = ROOT.TCanvas()\n",
    "c1.DivideSquare( len(hb))\n",
    "ipad = 0\n",
    "for name in methodNames: \n",
    "    ipad += 1\n",
    "    pad = c1.cd(ipad)\n",
    "    h1 = hb[name]\n",
    "    h1.Draw()\n",
    "    h2 = hs[name]\n",
    "    h2.SetLineColor(ROOT.kRed)\n",
    "    h2.Draw('Same')\n",
    "    pad.BuildLegend()\n",
    "    \n",
    "c1.Draw()"
   ]
  },
  {
   "cell_type": "markdown",
   "metadata": {
    "collapsed": true
   },
   "source": [
    "### Computing ROC Curve\n",
    "\n",
    "We compute here the ROC curve from the vector of the classifier output for signal and background events. \n",
    "The interface for the TMVA::ROCCurve class requires  a std::vector of float types"
   ]
  },
  {
   "cell_type": "code",
   "execution_count": null,
   "metadata": {},
   "outputs": [],
   "source": [
    "i = 0\n",
    "roc = []\n",
    "c2 = ROOT.TCanvas()\n",
    "for name in methodNames: \n",
    "    vsig = ROOT.std.vector('float')(nevt)\n",
    "    vbkg = ROOT.std.vector('float')(nevt)\n",
    "    for ievt in range(0,nevt): \n",
    "        vsig[ievt] = sig_result[i,ievt]\n",
    "        vbkg[ievt] = bkg_result[i,ievt]\n",
    "    roc.append ( TMVA.ROCCurve(vsig,vbkg) )\n",
    "    print name,' ROC Integral ',roc[i].GetROCIntegral()\n",
    "    gr = roc[i].GetROCCurve()\n",
    "    gr.SetLineColor(i+1)\n",
    "    gr.SetTitle(name)\n",
    "    if (i==0): \n",
    "        gr.Draw('AL')\n",
    "    else:\n",
    "        gr.Draw(\"L\")\n",
    "    i += 1\n",
    "    \n"
   ]
  },
  {
   "cell_type": "code",
   "execution_count": null,
   "metadata": {},
   "outputs": [],
   "source": [
    "c2.BuildLegend()\n",
    "c2.Draw()"
   ]
  },
  {
   "cell_type": "code",
   "execution_count": null,
   "metadata": {},
   "outputs": [],
   "source": []
  }
 ],
 "metadata": {
  "kernelspec": {
   "display_name": "Python 2",
   "language": "python",
   "name": "python2"
  },
  "language_info": {
   "codemirror_mode": {
    "name": "ipython",
    "version": 2
   },
   "file_extension": ".py",
   "mimetype": "text/x-python",
   "name": "python",
   "nbconvert_exporter": "python",
   "pygments_lexer": "ipython2",
   "version": "2.7.15"
  }
 },
 "nbformat": 4,
 "nbformat_minor": 1
}
